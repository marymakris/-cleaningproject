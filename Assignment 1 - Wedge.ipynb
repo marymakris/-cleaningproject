{
 "cells": [
  {
   "cell_type": "markdown",
   "metadata": {},
   "source": [
    "Data: \n",
    "53 ziped files of the Wedge Coop transaction data. Each row is a different transaction. Members of the Coop (also called owners) have a unique number that identifies them called card_no. \n",
    "\n",
    "These files are not easy to use in their current chronological arrangement. Our first task is to reshape the data so that all the records from a single owner are in a single file. This file can (and, probably, should) hold more than one owner. With the data rearranged this way it would be much easier to set up a distributed computing environment to process the records. Moreover, if we wanted to understand a single owner, it is convenient to be able to extract all their data in one step. \n",
    "\n",
    "Input\n",
    "The 53 zip files holding files with the extension “csv”. Note that not all of them are actually comma delimited. \n",
    "\n",
    "Output\n",
    "Files that are organized so that all the data for an owner, across our full data set, are in a single file. Multiple owners can be in one file. I recommend shooting for about 200 owner files. For non-owner files (card_no 3), split them into reasonable chunks of 5,000-25,000 rows. (If you just pipe all the card_no==3 into one file it will be several GB uncompressed.)\n",
    "\n",
    "Deliverable\n",
    "The python code that does the data splitting.\n",
    "\n",
    "#### \n",
    "So far we have code that opens a zip file, reads the lines, then splits the rows into files based on the remainder of their card_no / 199. So the line 45(card #) % 199 does that and an example card_no is 12513. This is our method of getting all the owner rows into one file together (there can be multiple owners in one as long as all their data is there)\n",
    "\n",
    "So now we need to figure out how to automate it over all the zips in the zip file. And we need to make sure the data that's already in a file doesn't get written over so we probably have to have some sort of write, then append code. \n",
    "\n",
    "We also need to figure out how to make sure all the files are deliminated the same way. And card #3 represents non-members so there's way more rows for that number. We need create an if statement to to put 25,000 rows of card 3 data in a file then open a new one and puts 25k more in there until all the rows with card_no 3 get written out.  "
   ]
  },
  {
   "cell_type": "code",
   "execution_count": null,
   "metadata": {
    "collapsed": true
   },
   "outputs": [],
   "source": [
    "import os\n",
    "import zipfile\n",
    "\n",
    "with zipfile.ZipFile('C:\\\\Users\\\\Mary Makris\\\\Documents\\\\Applied Data Analytics\\\\Practice Zip\\\\transArchive_201001_201003.zip') as z: #open zip file to read\n",
    "    for filename in z.namelist():\n",
    "        if not os.path.isdir(filename):\n",
    "            with z.open(filename) as f: \n",
    "                next(f)\n",
    "                for idx, line in enumerate(f.readlines()) : #read line in file line by line \n",
    "                    line = line.decode('UTF-8') #remove binary \n",
    "                    line = line.replace('\"','').split(',') #strip quotes and split column contents with a comma\n",
    "                    stub = \"crash_test_\"\n",
    "                    suffix = int(line[45]) % 199\n",
    "                    suffix = str(suffix)\n",
    "                    ofile_name = \"\".join([stub, suffix,'.txt'])\n",
    "                    with open(working_dir + ofile_name,'a', encoding = \"Latin-1\") as ofile :\n",
    "                            ofile.write(str(line))"
   ]
  }
 ],
 "metadata": {
  "kernelspec": {
   "display_name": "Python 3",
   "language": "python",
   "name": "python3"
  },
  "language_info": {
   "codemirror_mode": {
    "name": "ipython",
    "version": 3
   },
   "file_extension": ".py",
   "mimetype": "text/x-python",
   "name": "python",
   "nbconvert_exporter": "python",
   "pygments_lexer": "ipython3",
   "version": "3.6.1"
  }
 },
 "nbformat": 4,
 "nbformat_minor": 2
}
