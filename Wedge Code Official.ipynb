{
 "cells": [
  {
   "cell_type": "code",
   "execution_count": 5,
   "metadata": {
    "collapsed": true
   },
   "outputs": [],
   "source": [
    "working_dir =  \"C:\\\\Users\\\\Mary Makris\\\\Documents\\\\Applied Data Analytics\\\\Practice Zip\\\\marytest.zip\""
   ]
  },
  {
   "cell_type": "code",
   "execution_count": null,
   "metadata": {
    "collapsed": true
   },
   "outputs": [],
   "source": [
    "To do: \n",
    "                        \n",
    "                    ### determine output file name\n",
    "                    ### open outfile\n",
    "                    ### write to new file with the name file_31, file_30, file_29\n",
    "                    ### if card_no = 3 :\n",
    "                    ### then write 25,000 rows and then open up a new file\n",
    "                    ### if headline not in it, write it in there\n",
    "                    \n",
    "### Don't forget, we need to make sure we are appending new input, not overwriting\n",
    "### Deliminate by column "
   ]
  },
  {
   "cell_type": "code",
   "execution_count": 12,
   "metadata": {
    "collapsed": true
   },
   "outputs": [],
   "source": [
    "import os
import zipfile

with zipfile.ZipFile('C:\\Users\\Mary Makris\\Documents\\Applied Data Analytics\\Practice Zip\\transArchive_201001_201003.zip') as z: #open zip file to read
    for filename in z.namelist():
        if not os.path.isdir(filename):
            with z.open(filename) as f: 
                next(f)
                for idx, line in enumerate(f.readlines()) : #read line in file line by line 
                    line = line.decode('UTF-8') #remove binary 
                    line = line.replace('"','').split(',') #strip quotes and split column contents with a comma
                        #for index, item in enumerate (line) :
                    stub = "crash_test_"
                    suffix = int(line[45]) % 199
                    suffix = str(suffix)
                    ofile_name = "".join([stub, suffix,'.txt'])
                    with open(working_dir + ofile_name,'a', encoding = "Latin-1") as ofile :
                            ofile.write(str(line))
   ]
  },
  {
   "cell_type": "code",
   "execution_count": 42,
   "metadata": {
    "collapsed": true
   },
   "outputs": [],
   "source": 
  },
  {
   "cell_type": "code",
   "execution_count": 41,
   "metadata": {
    "collapsed": true
   },
   "outputs": [],
   "source": 
  },
  {
   "cell_type": "code",
   "execution_count": null,
   "metadata": {
    "collapsed": true
   },
   "outputs": [],
   "source": []
  }
 ],
 "metadata": {
  "kernelspec": {
   "display_name": "Python 3",
   "language": "python",
   "name": "python3"
  },
  "language_info": {
   "codemirror_mode": {
    "name": "ipython",
    "version": 3
   },
   "file_extension": ".py",
   "mimetype": "text/x-python",
   "name": "python",
   "nbconvert_exporter": "python",
   "pygments_lexer": "ipython3",
   "version": "3.6.1"
  }
 },
 "nbformat": 4,
 "nbformat_minor": 2
}
